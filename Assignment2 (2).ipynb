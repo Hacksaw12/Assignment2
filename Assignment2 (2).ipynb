{
 "cells": [
  {
   "cell_type": "markdown",
   "id": "624927ae",
   "metadata": {},
   "source": [
    "# 1.What are the two values of the Boolean data type? How do you write them?\n",
    "Ans:>The two Boolean data types are ‘True’ and ‘False’ . And the are notes True and False. With the first letter capital.\n"
   ]
  },
  {
   "cell_type": "markdown",
   "id": "ff9a28b6",
   "metadata": {},
   "source": [
    "# 2. What are the three different types of Boolean operators?\n",
    "Ans:> The three basic boolean operators are: AND, OR, and NOT."
   ]
  },
  {
   "cell_type": "raw",
   "id": "9a4d55e3",
   "metadata": {},
   "source": [
    "3. Make a list of each Boolean operator  truth tables (i.e. every possible combination of Boolean values for the operator and what it evaluate )."
   ]
  },
  {
   "cell_type": "markdown",
   "id": "e22252c0",
   "metadata": {},
   "source": [
    "# 4. What are the values of the following expressions?\n",
    "Ans:> (5 > 4) and (3 == 5)  = False.  not (5> 4) = False.\n",
    "(5 > 4) or (3 == 5) = True.  not ((5 > 4) or (3 == 5)) = False.\n",
    "(True and True) and (True == False) = False.\n",
    "(not False) or (not True) = Ture\n"
   ]
  },
  {
   "cell_type": "markdown",
   "id": "d8ac5ff1",
   "metadata": {},
   "source": [
    "# 5. What are the six comparison operators?\n",
    "Ans:>\n",
    ">\tLess than (<) — returns true if the value on the left is less than the value on the right, otherwise it returns false.\n",
    ">\tGreater than (>) — returns true if the value on the left is greater than the value on the right, otherwise it returns false.\n",
    ">\tLess than or equal to (<=) — returns true if the value on the left is less than or equal to the value on the right, otherwise it returns false.\n",
    ">\tGreater than or equal to (>=) — returns true if the value on the left is greater than or equal to the value on the right, otherwise it returns false.\n",
    ">\tEqual to (===) — returns true if the value on the left is equal to the value on the right, otherwise it returns false.\n",
    ">\tNot equal to (!==) — returns true if the value on the left is not equal to the value on the right, otherwise it returns false.\n"
   ]
  },
  {
   "cell_type": "markdown",
   "id": "8c7a51dd",
   "metadata": {},
   "source": [
    "# 6. How do you tell the difference between the equal to and assignment operators?Describe a condition and when you would use one.\n",
    "Ans:> The “=” is an assignment operator is used to assign the value on the right to the variable on the left. The ‘==’ operator checks whether the two given operands are equal or not. If so, it returns true. Otherwise it returns false.\n"
   ]
  },
  {
   "cell_type": "markdown",
   "id": "3a3c5181",
   "metadata": {},
   "source": [
    "# 7. Identify the three blocks in this code:\n",
    "spam = 0\n",
    "if spam == 10:\n",
    "print(‘eggs’)\n",
    "if spam > 5:\n",
    "print(‘bacon’)\n",
    "else:\n",
    "print(‘ham’)\n",
    "print(‘spam’)\n",
    "Ans:> the constraints in the above script are.\n",
    "•\tIndentation for all print statement.\n"
   ]
  },
  {
   "cell_type": "code",
   "execution_count": 1,
   "id": "26cab262",
   "metadata": {},
   "outputs": [
    {
     "name": "stdout",
     "output_type": "stream",
     "text": [
      "2\n",
      "howdy\n"
     ]
    }
   ],
   "source": [
    "#7.\tWrite code that prints Hello if 1 is stored in spam, prints Howdy if 2 is stored in spam, and prints Greetings! if anything else is stored in spam.\n",
    "#Ans:> \n",
    "spam = int(input())\n",
    "if spam == 1:\n",
    "    print('hello')\n",
    "elif spam == 2:\n",
    "      print('howdy')\n",
    "else:\n",
    "    print(\"non\")\n"
   ]
  },
  {
   "cell_type": "markdown",
   "id": "f2a68342",
   "metadata": {},
   "source": [
    "# 9.If your programme is stuck in an endless loop, what keys you’ll press?\n",
    "Ans:> control + c(interrupt he kernel)\n"
   ]
  },
  {
   "cell_type": "markdown",
   "id": "ea09c2b2",
   "metadata": {},
   "source": [
    "# 10.\tHow can you tell the difference between break and continue?\n",
    "Ans:>break: The break statement is usually used with the switch statement, and it can also use it within the while loop, do-while loop, or the for-loop.\n",
    "Continue: The continue statement is not used with the switch statement, but it can be used within the while loop, do-while loop, or for-loop.\n"
   ]
  },
  {
   "cell_type": "markdown",
   "id": "cae83ee2",
   "metadata": {},
   "source": [
    "# 11.\tIn a for loop, what is the difference between range(10), range(0, 10), and range(0, 10, 1)?\n",
    "Ans:> range(10):provides (0 to 9).it consider to start with zero by default.\n",
    "range(0,10): provides(0 to 9).\n",
    "Range(0,10,1):also provides 0 to 9 it does not consider the third parameter.\n"
   ]
  },
  {
   "cell_type": "code",
   "execution_count": 3,
   "id": "f901e206",
   "metadata": {},
   "outputs": [
    {
     "name": "stdout",
     "output_type": "stream",
     "text": [
      "0\n",
      "1\n",
      "2\n",
      "3\n",
      "4\n",
      "5\n",
      "6\n",
      "7\n",
      "8\n",
      "9\n",
      "10\n",
      "0\n",
      "1\n",
      "2\n",
      "3\n",
      "4\n",
      "5\n",
      "6\n",
      "7\n",
      "8\n",
      "9\n",
      "10\n"
     ]
    }
   ],
   "source": [
    "#12.\tWrite a short program that prints the numbers 1 to 10 using a for loop. Then write an equivalent program that prints the numbers 1 to 10 using a while loop.\n",
    "#Ans:> \n",
    "#a) \n",
    "for i in range(0,11):\n",
    "    print(i)\n",
    "#b)  \n",
    "a=0\n",
    "while a<=10:\n",
    "    print(a)\n",
    "    a=a+1"
   ]
  },
  {
   "cell_type": "markdown",
   "id": "456a09b7",
   "metadata": {},
   "source": [
    "# 13.\tIf y ou had a function named bacon() inside a module named listeningspam, how would you call it after importing spam?\n",
    "Ans:> import bacon() from listeningspam:\n"
   ]
  }
 ],
 "metadata": {
  "kernelspec": {
   "display_name": "Python 3",
   "language": "python",
   "name": "python3"
  },
  "language_info": {
   "codemirror_mode": {
    "name": "ipython",
    "version": 3
   },
   "file_extension": ".py",
   "mimetype": "text/x-python",
   "name": "python",
   "nbconvert_exporter": "python",
   "pygments_lexer": "ipython3",
   "version": "3.8.8"
  }
 },
 "nbformat": 4,
 "nbformat_minor": 5
}
